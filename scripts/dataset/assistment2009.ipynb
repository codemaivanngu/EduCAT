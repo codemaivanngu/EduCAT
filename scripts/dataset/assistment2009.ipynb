{
 "cells": [
  {
   "cell_type": "code",
   "execution_count": 1,
   "metadata": {},
   "outputs": [],
   "source": [
    "import csv\n",
    "import json\n",
    "import random\n",
    "import numpy as np\n",
    "import pandas as pd\n",
    "import matplotlib.pyplot as plt\n",
    "from collections import defaultdict"
   ]
  },
  {
   "cell_type": "code",
   "execution_count": 2,
   "metadata": {},
   "outputs": [],
   "source": [
    "def stat_unique(data: pd.DataFrame, key):\n",
    "    if key is None:\n",
    "        print('Total length: {}'.format(len(data)))\n",
    "    elif isinstance(key, str):\n",
    "        print('Number of unique {}: {}'.format(key, len(data[key].unique())))\n",
    "        return len(data[key].unique())\n",
    "    elif isinstance(key, list):\n",
    "        print('Number of unique [{}]: {}'.format(','.join(key), len(data.drop_duplicates(key, keep='first'))))\n",
    "        return len(data.drop_duplicates(key, keep='first'))"
   ]
  },
  {
   "cell_type": "code",
   "execution_count": 3,
   "metadata": {},
   "outputs": [
    {
     "data": {
      "text/html": [
       "<div>\n",
       "<style scoped>\n",
       "    .dataframe tbody tr th:only-of-type {\n",
       "        vertical-align: middle;\n",
       "    }\n",
       "\n",
       "    .dataframe tbody tr th {\n",
       "        vertical-align: top;\n",
       "    }\n",
       "\n",
       "    .dataframe thead th {\n",
       "        text-align: right;\n",
       "    }\n",
       "</style>\n",
       "<table border=\"1\" class=\"dataframe\">\n",
       "  <thead>\n",
       "    <tr style=\"text-align: right;\">\n",
       "      <th></th>\n",
       "      <th>order_id</th>\n",
       "      <th>assignment_id</th>\n",
       "      <th>user_id</th>\n",
       "      <th>assistment_id</th>\n",
       "      <th>problem_id</th>\n",
       "      <th>original</th>\n",
       "      <th>correct</th>\n",
       "      <th>attempt_count</th>\n",
       "      <th>ms_first_response</th>\n",
       "      <th>tutor_mode</th>\n",
       "      <th>...</th>\n",
       "      <th>hint_count</th>\n",
       "      <th>hint_total</th>\n",
       "      <th>overlap_time</th>\n",
       "      <th>template_id</th>\n",
       "      <th>answer_id</th>\n",
       "      <th>answer_text</th>\n",
       "      <th>first_action</th>\n",
       "      <th>bottom_hint</th>\n",
       "      <th>opportunity</th>\n",
       "      <th>opportunity_original</th>\n",
       "    </tr>\n",
       "  </thead>\n",
       "  <tbody>\n",
       "    <tr>\n",
       "      <th>0</th>\n",
       "      <td>20223588</td>\n",
       "      <td>245748</td>\n",
       "      <td>77759</td>\n",
       "      <td>12914</td>\n",
       "      <td>12914</td>\n",
       "      <td>1</td>\n",
       "      <td>1.0</td>\n",
       "      <td>1</td>\n",
       "      <td>57310.0</td>\n",
       "      <td>tutor</td>\n",
       "      <td>...</td>\n",
       "      <td>0</td>\n",
       "      <td>0</td>\n",
       "      <td>57310</td>\n",
       "      <td>12914</td>\n",
       "      <td>20935.0</td>\n",
       "      <td>NaN</td>\n",
       "      <td>0.0</td>\n",
       "      <td>NaN</td>\n",
       "      <td>1</td>\n",
       "      <td>1</td>\n",
       "    </tr>\n",
       "    <tr>\n",
       "      <th>1</th>\n",
       "      <td>20223595</td>\n",
       "      <td>245748</td>\n",
       "      <td>77759</td>\n",
       "      <td>15320</td>\n",
       "      <td>15320</td>\n",
       "      <td>1</td>\n",
       "      <td>1.0</td>\n",
       "      <td>1</td>\n",
       "      <td>88691.0</td>\n",
       "      <td>tutor</td>\n",
       "      <td>...</td>\n",
       "      <td>0</td>\n",
       "      <td>0</td>\n",
       "      <td>88691</td>\n",
       "      <td>15320</td>\n",
       "      <td>22385.0</td>\n",
       "      <td>NaN</td>\n",
       "      <td>0.0</td>\n",
       "      <td>NaN</td>\n",
       "      <td>2</td>\n",
       "      <td>2</td>\n",
       "    </tr>\n",
       "    <tr>\n",
       "      <th>2</th>\n",
       "      <td>20223601</td>\n",
       "      <td>245748</td>\n",
       "      <td>77759</td>\n",
       "      <td>14529</td>\n",
       "      <td>14529</td>\n",
       "      <td>1</td>\n",
       "      <td>1.0</td>\n",
       "      <td>1</td>\n",
       "      <td>43748.0</td>\n",
       "      <td>tutor</td>\n",
       "      <td>...</td>\n",
       "      <td>0</td>\n",
       "      <td>0</td>\n",
       "      <td>43748</td>\n",
       "      <td>14529</td>\n",
       "      <td>20735.0</td>\n",
       "      <td>NaN</td>\n",
       "      <td>0.0</td>\n",
       "      <td>NaN</td>\n",
       "      <td>3</td>\n",
       "      <td>3</td>\n",
       "    </tr>\n",
       "    <tr>\n",
       "      <th>3</th>\n",
       "      <td>20223926</td>\n",
       "      <td>245698</td>\n",
       "      <td>77912</td>\n",
       "      <td>1159</td>\n",
       "      <td>1159</td>\n",
       "      <td>1</td>\n",
       "      <td>0.0</td>\n",
       "      <td>2</td>\n",
       "      <td>45587.0</td>\n",
       "      <td>tutor</td>\n",
       "      <td>...</td>\n",
       "      <td>0</td>\n",
       "      <td>0</td>\n",
       "      <td>53599</td>\n",
       "      <td>1159</td>\n",
       "      <td>NaN</td>\n",
       "      <td>3</td>\n",
       "      <td>0.0</td>\n",
       "      <td>NaN</td>\n",
       "      <td>1</td>\n",
       "      <td>1</td>\n",
       "    </tr>\n",
       "    <tr>\n",
       "      <th>4</th>\n",
       "      <td>20223934</td>\n",
       "      <td>245698</td>\n",
       "      <td>77912</td>\n",
       "      <td>1647</td>\n",
       "      <td>1647</td>\n",
       "      <td>1</td>\n",
       "      <td>1.0</td>\n",
       "      <td>1</td>\n",
       "      <td>90176.0</td>\n",
       "      <td>tutor</td>\n",
       "      <td>...</td>\n",
       "      <td>0</td>\n",
       "      <td>0</td>\n",
       "      <td>90176</td>\n",
       "      <td>1647</td>\n",
       "      <td>3438.0</td>\n",
       "      <td>NaN</td>\n",
       "      <td>0.0</td>\n",
       "      <td>NaN</td>\n",
       "      <td>1</td>\n",
       "      <td>1</td>\n",
       "    </tr>\n",
       "  </tbody>\n",
       "</table>\n",
       "<p>5 rows × 30 columns</p>\n",
       "</div>"
      ],
      "text/plain": [
       "   order_id  assignment_id  user_id  assistment_id  problem_id  original  \\\n",
       "0  20223588         245748    77759          12914       12914         1   \n",
       "1  20223595         245748    77759          15320       15320         1   \n",
       "2  20223601         245748    77759          14529       14529         1   \n",
       "3  20223926         245698    77912           1159        1159         1   \n",
       "4  20223934         245698    77912           1647        1647         1   \n",
       "\n",
       "   correct  attempt_count  ms_first_response tutor_mode  ... hint_count  \\\n",
       "0      1.0              1            57310.0      tutor  ...          0   \n",
       "1      1.0              1            88691.0      tutor  ...          0   \n",
       "2      1.0              1            43748.0      tutor  ...          0   \n",
       "3      0.0              2            45587.0      tutor  ...          0   \n",
       "4      1.0              1            90176.0      tutor  ...          0   \n",
       "\n",
       "   hint_total  overlap_time  template_id answer_id  answer_text first_action  \\\n",
       "0           0         57310        12914   20935.0          NaN          0.0   \n",
       "1           0         88691        15320   22385.0          NaN          0.0   \n",
       "2           0         43748        14529   20735.0          NaN          0.0   \n",
       "3           0         53599         1159       NaN            3          0.0   \n",
       "4           0         90176         1647    3438.0          NaN          0.0   \n",
       "\n",
       "  bottom_hint  opportunity  opportunity_original  \n",
       "0         NaN            1                     1  \n",
       "1         NaN            2                     2  \n",
       "2         NaN            3                     3  \n",
       "3         NaN            1                     1  \n",
       "4         NaN            1                     1  \n",
       "\n",
       "[5 rows x 30 columns]"
      ]
     },
     "execution_count": 3,
     "metadata": {},
     "output_type": "execute_result"
    }
   ],
   "source": [
    "raw_data = pd.read_csv('../../data/assistment2009/non_skill_builder_data_new.csv', encoding = 'utf-8', dtype={'skill_id': str})\n",
    "raw_data.head()"
   ]
  },
  {
   "cell_type": "code",
   "execution_count": 4,
   "metadata": {},
   "outputs": [],
   "source": [
    "raw_data = raw_data.rename(columns={'user_id': 'student_id',\n",
    "                                    'problem_id': 'question_id',\n",
    "                                    'skill_id': 'knowledge_id',\n",
    "                                    'skill_name': 'knowledge_name',\n",
    "                                    })\n",
    "all_data = raw_data.loc[:, ['student_id', 'question_id', 'knowledge_id', 'knowledge_name', 'correct']].dropna()"
   ]
  },
  {
   "cell_type": "code",
   "execution_count": 5,
   "metadata": {},
   "outputs": [
    {
     "name": "stdout",
     "output_type": "stream",
     "text": [
      "Total length: 562268\n",
      "Number of unique [student_id,question_id]: 526434\n",
      "Number of unique student_id: 8043\n",
      "Number of unique question_id: 6630\n",
      "Number of unique knowledge_id: 525\n"
     ]
    }
   ],
   "source": [
    "stat_unique(all_data, None)\n",
    "a=stat_unique(all_data, ['student_id', 'question_id'])\n",
    "b=stat_unique(all_data, 'student_id')\n",
    "c=stat_unique(all_data, 'question_id')\n",
    "d=stat_unique(all_data, 'knowledge_id')"
   ]
  },
  {
   "cell_type": "code",
   "execution_count": null,
   "metadata": {},
   "outputs": [],
   "source": [
    "def format_knowledge_id(x):\n",
    "    # Chuyển giá trị về chuỗi để xử lý nhất quán\n",
    "    s = str(x)\n",
    "    # Nếu chứa dấu phẩy, lấy phần tử đầu tiên\n",
    "    if ',' in s:\n",
    "        return int(s.split(',')[0])\n",
    "    else:\n",
    "        return int(s)\n",
    "\n",
    "# Áp dụng hàm cho cột knowledge_id\n",
    "all_data['knowledge_id'] = all_data['knowledge_id'].apply(format_knowledge_id)"
   ]
  },
  {
   "cell_type": "markdown",
   "metadata": {},
   "source": [
    "## Filter data"
   ]
  },
  {
   "cell_type": "code",
   "execution_count": 23,
   "metadata": {},
   "outputs": [],
   "source": [
    "selected_data = all_data"
   ]
  },
  {
   "cell_type": "code",
   "execution_count": 24,
   "metadata": {},
   "outputs": [
    {
     "name": "stdout",
     "output_type": "stream",
     "text": [
      "filter 4208 questions\n"
     ]
    }
   ],
   "source": [
    "# filter questions\n",
    "n_students = selected_data.groupby('question_id')['student_id'].count()\n",
    "question_filter = n_students[n_students < 50].index.tolist()\n",
    "print(f'filter {len(question_filter)} questions')\n",
    "selected_data = selected_data[~selected_data['question_id'].isin(question_filter)]"
   ]
  },
  {
   "cell_type": "code",
   "execution_count": 25,
   "metadata": {},
   "outputs": [
    {
     "name": "stdout",
     "output_type": "stream",
     "text": [
      "filter 3258 students\n"
     ]
    }
   ],
   "source": [
    "# filter students\n",
    "n_questions = selected_data.groupby('student_id')['question_id'].count()\n",
    "student_filter = n_questions[n_questions < 20].index.tolist()\n",
    "print(f'filter {len(student_filter)} students')\n",
    "selected_data = selected_data[~selected_data['student_id'].isin(student_filter)]"
   ]
  },
  {
   "cell_type": "code",
   "execution_count": 26,
   "metadata": {},
   "outputs": [],
   "source": [
    "# get question to knowledge map\n",
    "q2k = {}\n",
    "table = selected_data.loc[:, ['question_id', 'knowledge_id']].drop_duplicates()\n",
    "for i, row in table.iterrows():\n",
    "    q = row['question_id']\n",
    "    # ép về chuỗi để đảm bảo xử lý nhất quán\n",
    "    knowledge_str = str(row['knowledge_id'])\n",
    "    # nếu chứa dấu phẩy -> tách lấy id đầu tiên, ngược lại chuyển trực tiếp\n",
    "    if ',' in knowledge_str:\n",
    "        first_knowledge = int(knowledge_str.split(',')[0])\n",
    "    else:\n",
    "        first_knowledge = int(knowledge_str)\n",
    "    q2k[q] = {first_knowledge}\n",
    "\n",
    "    \n",
    "# get knowledge to question map\n",
    "k2q = {}\n",
    "for q, ks in q2k.items():\n",
    "    for k in ks:\n",
    "        k2q.setdefault(k, set())\n",
    "        k2q[k].add(q)"
   ]
  },
  {
   "cell_type": "code",
   "execution_count": 27,
   "metadata": {},
   "outputs": [
    {
     "name": "stdout",
     "output_type": "stream",
     "text": [
      "filter 77 knowledges\n"
     ]
    }
   ],
   "source": [
    "# filter knowledges\n",
    "#selected_knowledges = { k for k, q in k2q.items()}\n",
    "selected_knowledges = { k for k, q in k2q.items() if len(q) >= 10}\n",
    "print(f'filter {len(k2q) - len(selected_knowledges)} knowledges')"
   ]
  },
  {
   "cell_type": "code",
   "execution_count": 28,
   "metadata": {},
   "outputs": [],
   "source": [
    "# update maps\n",
    "q2k = {q : ks for q, ks in q2k.items() if ks & selected_knowledges}\n",
    "k2q = {}\n",
    "for q, ks in q2k.items():\n",
    "    for k in ks:\n",
    "        k2q.setdefault(k, set())\n",
    "        k2q[k].add(q)"
   ]
  },
  {
   "cell_type": "code",
   "execution_count": 29,
   "metadata": {},
   "outputs": [],
   "source": [
    "# update data\n",
    "selected_data = selected_data[selected_data.apply(lambda x: x['question_id'] in q2k, axis=1)]"
   ]
  },
  {
   "cell_type": "code",
   "execution_count": 30,
   "metadata": {},
   "outputs": [],
   "source": [
    "# renumber the students\n",
    "s2n = {}\n",
    "cnt = 0\n",
    "for i, row in selected_data.iterrows():\n",
    "    if row.student_id not in s2n:\n",
    "        s2n[row.student_id] = cnt\n",
    "        cnt += 1\n",
    "selected_data.loc[:, 'student_id'] = selected_data.loc[:, 'student_id'].apply(lambda x: s2n[x])"
   ]
  },
  {
   "cell_type": "code",
   "execution_count": 31,
   "metadata": {},
   "outputs": [],
   "source": [
    "# renumber the questions\n",
    "q2n = {}\n",
    "cnt = 0\n",
    "for i, row in selected_data.iterrows():\n",
    "    if row.question_id not in q2n:\n",
    "        q2n[row.question_id] = cnt\n",
    "        cnt += 1\n",
    "selected_data.loc[:, 'question_id'] = selected_data.loc[:, 'question_id'].apply(lambda x: q2n[x])"
   ]
  },
  {
   "cell_type": "code",
   "execution_count": 32,
   "metadata": {},
   "outputs": [
    {
     "ename": "ValueError",
     "evalue": "could not convert string to float: '58,93'",
     "output_type": "error",
     "traceback": [
      "\u001b[1;31m---------------------------------------------------------------------------\u001b[0m",
      "\u001b[1;31mValueError\u001b[0m                                Traceback (most recent call last)",
      "Cell \u001b[1;32mIn[32], line 12\u001b[0m\n\u001b[0;32m     10\u001b[0m             k2n[\u001b[38;5;28mint\u001b[39m(\u001b[38;5;28mfloat\u001b[39m(k))] \u001b[38;5;241m=\u001b[39m cnt\n\u001b[0;32m     11\u001b[0m             cnt \u001b[38;5;241m+\u001b[39m\u001b[38;5;241m=\u001b[39m \u001b[38;5;241m1\u001b[39m\n\u001b[1;32m---> 12\u001b[0m selected_data\u001b[38;5;241m.\u001b[39mloc[:, \u001b[38;5;124m'\u001b[39m\u001b[38;5;124mknowledge_id\u001b[39m\u001b[38;5;124m'\u001b[39m] \u001b[38;5;241m=\u001b[39m selected_data\u001b[38;5;241m.\u001b[39mloc[:, \u001b[38;5;124m'\u001b[39m\u001b[38;5;124mknowledge_id\u001b[39m\u001b[38;5;124m'\u001b[39m]\u001b[38;5;241m.\u001b[39mapply(\u001b[38;5;28;01mlambda\u001b[39;00m x: \u001b[38;5;124m'\u001b[39m\u001b[38;5;124m_\u001b[39m\u001b[38;5;124m'\u001b[39m\u001b[38;5;241m.\u001b[39mjoin(\u001b[38;5;28mmap\u001b[39m(\u001b[38;5;28;01mlambda\u001b[39;00m y: \u001b[38;5;28mstr\u001b[39m(k2n[\u001b[38;5;28mint\u001b[39m(\u001b[38;5;28mfloat\u001b[39m(y))]), \u001b[38;5;28mstr\u001b[39m(x)\u001b[38;5;241m.\u001b[39msplit(\u001b[38;5;124m'\u001b[39m\u001b[38;5;124m_\u001b[39m\u001b[38;5;124m'\u001b[39m))))\n",
      "File \u001b[1;32m~\\AppData\\Roaming\\Python\\Python312\\site-packages\\pandas\\core\\series.py:4924\u001b[0m, in \u001b[0;36mSeries.apply\u001b[1;34m(self, func, convert_dtype, args, by_row, **kwargs)\u001b[0m\n\u001b[0;32m   4789\u001b[0m \u001b[38;5;28;01mdef\u001b[39;00m \u001b[38;5;21mapply\u001b[39m(\n\u001b[0;32m   4790\u001b[0m     \u001b[38;5;28mself\u001b[39m,\n\u001b[0;32m   4791\u001b[0m     func: AggFuncType,\n\u001b[1;32m   (...)\u001b[0m\n\u001b[0;32m   4796\u001b[0m     \u001b[38;5;241m*\u001b[39m\u001b[38;5;241m*\u001b[39mkwargs,\n\u001b[0;32m   4797\u001b[0m ) \u001b[38;5;241m-\u001b[39m\u001b[38;5;241m>\u001b[39m DataFrame \u001b[38;5;241m|\u001b[39m Series:\n\u001b[0;32m   4798\u001b[0m \u001b[38;5;250m    \u001b[39m\u001b[38;5;124;03m\"\"\"\u001b[39;00m\n\u001b[0;32m   4799\u001b[0m \u001b[38;5;124;03m    Invoke function on values of Series.\u001b[39;00m\n\u001b[0;32m   4800\u001b[0m \n\u001b[1;32m   (...)\u001b[0m\n\u001b[0;32m   4915\u001b[0m \u001b[38;5;124;03m    dtype: float64\u001b[39;00m\n\u001b[0;32m   4916\u001b[0m \u001b[38;5;124;03m    \"\"\"\u001b[39;00m\n\u001b[0;32m   4917\u001b[0m     \u001b[38;5;28;01mreturn\u001b[39;00m SeriesApply(\n\u001b[0;32m   4918\u001b[0m         \u001b[38;5;28mself\u001b[39m,\n\u001b[0;32m   4919\u001b[0m         func,\n\u001b[0;32m   4920\u001b[0m         convert_dtype\u001b[38;5;241m=\u001b[39mconvert_dtype,\n\u001b[0;32m   4921\u001b[0m         by_row\u001b[38;5;241m=\u001b[39mby_row,\n\u001b[0;32m   4922\u001b[0m         args\u001b[38;5;241m=\u001b[39margs,\n\u001b[0;32m   4923\u001b[0m         kwargs\u001b[38;5;241m=\u001b[39mkwargs,\n\u001b[1;32m-> 4924\u001b[0m     )\u001b[38;5;241m.\u001b[39mapply()\n",
      "File \u001b[1;32m~\\AppData\\Roaming\\Python\\Python312\\site-packages\\pandas\\core\\apply.py:1427\u001b[0m, in \u001b[0;36mSeriesApply.apply\u001b[1;34m(self)\u001b[0m\n\u001b[0;32m   1424\u001b[0m     \u001b[38;5;28;01mreturn\u001b[39;00m \u001b[38;5;28mself\u001b[39m\u001b[38;5;241m.\u001b[39mapply_compat()\n\u001b[0;32m   1426\u001b[0m \u001b[38;5;66;03m# self.func is Callable\u001b[39;00m\n\u001b[1;32m-> 1427\u001b[0m \u001b[38;5;28;01mreturn\u001b[39;00m \u001b[38;5;28mself\u001b[39m\u001b[38;5;241m.\u001b[39mapply_standard()\n",
      "File \u001b[1;32m~\\AppData\\Roaming\\Python\\Python312\\site-packages\\pandas\\core\\apply.py:1507\u001b[0m, in \u001b[0;36mSeriesApply.apply_standard\u001b[1;34m(self)\u001b[0m\n\u001b[0;32m   1501\u001b[0m \u001b[38;5;66;03m# row-wise access\u001b[39;00m\n\u001b[0;32m   1502\u001b[0m \u001b[38;5;66;03m# apply doesn't have a `na_action` keyword and for backward compat reasons\u001b[39;00m\n\u001b[0;32m   1503\u001b[0m \u001b[38;5;66;03m# we need to give `na_action=\"ignore\"` for categorical data.\u001b[39;00m\n\u001b[0;32m   1504\u001b[0m \u001b[38;5;66;03m# TODO: remove the `na_action=\"ignore\"` when that default has been changed in\u001b[39;00m\n\u001b[0;32m   1505\u001b[0m \u001b[38;5;66;03m#  Categorical (GH51645).\u001b[39;00m\n\u001b[0;32m   1506\u001b[0m action \u001b[38;5;241m=\u001b[39m \u001b[38;5;124m\"\u001b[39m\u001b[38;5;124mignore\u001b[39m\u001b[38;5;124m\"\u001b[39m \u001b[38;5;28;01mif\u001b[39;00m \u001b[38;5;28misinstance\u001b[39m(obj\u001b[38;5;241m.\u001b[39mdtype, CategoricalDtype) \u001b[38;5;28;01melse\u001b[39;00m \u001b[38;5;28;01mNone\u001b[39;00m\n\u001b[1;32m-> 1507\u001b[0m mapped \u001b[38;5;241m=\u001b[39m obj\u001b[38;5;241m.\u001b[39m_map_values(\n\u001b[0;32m   1508\u001b[0m     mapper\u001b[38;5;241m=\u001b[39mcurried, na_action\u001b[38;5;241m=\u001b[39maction, convert\u001b[38;5;241m=\u001b[39m\u001b[38;5;28mself\u001b[39m\u001b[38;5;241m.\u001b[39mconvert_dtype\n\u001b[0;32m   1509\u001b[0m )\n\u001b[0;32m   1511\u001b[0m \u001b[38;5;28;01mif\u001b[39;00m \u001b[38;5;28mlen\u001b[39m(mapped) \u001b[38;5;129;01mand\u001b[39;00m \u001b[38;5;28misinstance\u001b[39m(mapped[\u001b[38;5;241m0\u001b[39m], ABCSeries):\n\u001b[0;32m   1512\u001b[0m     \u001b[38;5;66;03m# GH#43986 Need to do list(mapped) in order to get treated as nested\u001b[39;00m\n\u001b[0;32m   1513\u001b[0m     \u001b[38;5;66;03m#  See also GH#25959 regarding EA support\u001b[39;00m\n\u001b[0;32m   1514\u001b[0m     \u001b[38;5;28;01mreturn\u001b[39;00m obj\u001b[38;5;241m.\u001b[39m_constructor_expanddim(\u001b[38;5;28mlist\u001b[39m(mapped), index\u001b[38;5;241m=\u001b[39mobj\u001b[38;5;241m.\u001b[39mindex)\n",
      "File \u001b[1;32m~\\AppData\\Roaming\\Python\\Python312\\site-packages\\pandas\\core\\base.py:921\u001b[0m, in \u001b[0;36mIndexOpsMixin._map_values\u001b[1;34m(self, mapper, na_action, convert)\u001b[0m\n\u001b[0;32m    918\u001b[0m \u001b[38;5;28;01mif\u001b[39;00m \u001b[38;5;28misinstance\u001b[39m(arr, ExtensionArray):\n\u001b[0;32m    919\u001b[0m     \u001b[38;5;28;01mreturn\u001b[39;00m arr\u001b[38;5;241m.\u001b[39mmap(mapper, na_action\u001b[38;5;241m=\u001b[39mna_action)\n\u001b[1;32m--> 921\u001b[0m \u001b[38;5;28;01mreturn\u001b[39;00m algorithms\u001b[38;5;241m.\u001b[39mmap_array(arr, mapper, na_action\u001b[38;5;241m=\u001b[39mna_action, convert\u001b[38;5;241m=\u001b[39mconvert)\n",
      "File \u001b[1;32m~\\AppData\\Roaming\\Python\\Python312\\site-packages\\pandas\\core\\algorithms.py:1743\u001b[0m, in \u001b[0;36mmap_array\u001b[1;34m(arr, mapper, na_action, convert)\u001b[0m\n\u001b[0;32m   1741\u001b[0m values \u001b[38;5;241m=\u001b[39m arr\u001b[38;5;241m.\u001b[39mastype(\u001b[38;5;28mobject\u001b[39m, copy\u001b[38;5;241m=\u001b[39m\u001b[38;5;28;01mFalse\u001b[39;00m)\n\u001b[0;32m   1742\u001b[0m \u001b[38;5;28;01mif\u001b[39;00m na_action \u001b[38;5;129;01mis\u001b[39;00m \u001b[38;5;28;01mNone\u001b[39;00m:\n\u001b[1;32m-> 1743\u001b[0m     \u001b[38;5;28;01mreturn\u001b[39;00m lib\u001b[38;5;241m.\u001b[39mmap_infer(values, mapper, convert\u001b[38;5;241m=\u001b[39mconvert)\n\u001b[0;32m   1744\u001b[0m \u001b[38;5;28;01melse\u001b[39;00m:\n\u001b[0;32m   1745\u001b[0m     \u001b[38;5;28;01mreturn\u001b[39;00m lib\u001b[38;5;241m.\u001b[39mmap_infer_mask(\n\u001b[0;32m   1746\u001b[0m         values, mapper, mask\u001b[38;5;241m=\u001b[39misna(values)\u001b[38;5;241m.\u001b[39mview(np\u001b[38;5;241m.\u001b[39muint8), convert\u001b[38;5;241m=\u001b[39mconvert\n\u001b[0;32m   1747\u001b[0m     )\n",
      "File \u001b[1;32mlib.pyx:2972\u001b[0m, in \u001b[0;36mpandas._libs.lib.map_infer\u001b[1;34m()\u001b[0m\n",
      "Cell \u001b[1;32mIn[32], line 12\u001b[0m, in \u001b[0;36m<lambda>\u001b[1;34m(x)\u001b[0m\n\u001b[0;32m     10\u001b[0m             k2n[\u001b[38;5;28mint\u001b[39m(\u001b[38;5;28mfloat\u001b[39m(k))] \u001b[38;5;241m=\u001b[39m cnt\n\u001b[0;32m     11\u001b[0m             cnt \u001b[38;5;241m+\u001b[39m\u001b[38;5;241m=\u001b[39m \u001b[38;5;241m1\u001b[39m\n\u001b[1;32m---> 12\u001b[0m selected_data\u001b[38;5;241m.\u001b[39mloc[:, \u001b[38;5;124m'\u001b[39m\u001b[38;5;124mknowledge_id\u001b[39m\u001b[38;5;124m'\u001b[39m] \u001b[38;5;241m=\u001b[39m selected_data\u001b[38;5;241m.\u001b[39mloc[:, \u001b[38;5;124m'\u001b[39m\u001b[38;5;124mknowledge_id\u001b[39m\u001b[38;5;124m'\u001b[39m]\u001b[38;5;241m.\u001b[39mapply(\u001b[38;5;28;01mlambda\u001b[39;00m x: \u001b[38;5;124m'\u001b[39m\u001b[38;5;124m_\u001b[39m\u001b[38;5;124m'\u001b[39m\u001b[38;5;241m.\u001b[39mjoin(\u001b[38;5;28mmap\u001b[39m(\u001b[38;5;28;01mlambda\u001b[39;00m y: \u001b[38;5;28mstr\u001b[39m(k2n[\u001b[38;5;28mint\u001b[39m(\u001b[38;5;28mfloat\u001b[39m(y))]), \u001b[38;5;28mstr\u001b[39m(x)\u001b[38;5;241m.\u001b[39msplit(\u001b[38;5;124m'\u001b[39m\u001b[38;5;124m_\u001b[39m\u001b[38;5;124m'\u001b[39m))))\n",
      "Cell \u001b[1;32mIn[32], line 12\u001b[0m, in \u001b[0;36m<lambda>\u001b[1;34m(y)\u001b[0m\n\u001b[0;32m     10\u001b[0m             k2n[\u001b[38;5;28mint\u001b[39m(\u001b[38;5;28mfloat\u001b[39m(k))] \u001b[38;5;241m=\u001b[39m cnt\n\u001b[0;32m     11\u001b[0m             cnt \u001b[38;5;241m+\u001b[39m\u001b[38;5;241m=\u001b[39m \u001b[38;5;241m1\u001b[39m\n\u001b[1;32m---> 12\u001b[0m selected_data\u001b[38;5;241m.\u001b[39mloc[:, \u001b[38;5;124m'\u001b[39m\u001b[38;5;124mknowledge_id\u001b[39m\u001b[38;5;124m'\u001b[39m] \u001b[38;5;241m=\u001b[39m selected_data\u001b[38;5;241m.\u001b[39mloc[:, \u001b[38;5;124m'\u001b[39m\u001b[38;5;124mknowledge_id\u001b[39m\u001b[38;5;124m'\u001b[39m]\u001b[38;5;241m.\u001b[39mapply(\u001b[38;5;28;01mlambda\u001b[39;00m x: \u001b[38;5;124m'\u001b[39m\u001b[38;5;124m_\u001b[39m\u001b[38;5;124m'\u001b[39m\u001b[38;5;241m.\u001b[39mjoin(\u001b[38;5;28mmap\u001b[39m(\u001b[38;5;28;01mlambda\u001b[39;00m y: \u001b[38;5;28mstr\u001b[39m(k2n[\u001b[38;5;28mint\u001b[39m(\u001b[38;5;28mfloat\u001b[39m(y))]), \u001b[38;5;28mstr\u001b[39m(x)\u001b[38;5;241m.\u001b[39msplit(\u001b[38;5;124m'\u001b[39m\u001b[38;5;124m_\u001b[39m\u001b[38;5;124m'\u001b[39m))))\n",
      "\u001b[1;31mValueError\u001b[0m: could not convert string to float: '58,93'"
     ]
    }
   ],
   "source": [
    "# renumber the knowledges\n",
    "k2n = {}\n",
    "cnt = 0\n",
    "for i, row in selected_data.iterrows():\n",
    "    for k in str(row.knowledge_id).split('_'):\n",
    "        k = str(k)\n",
    "        if \",\" in k: k = k.split(\",\")[0]\n",
    "        k=int(k)\n",
    "        if int(float(k)) not in k2n:\n",
    "            k2n[int(float(k))] = cnt\n",
    "            cnt += 1\n",
    "selected_data.loc[:, 'knowledge_id'] = selected_data.loc[:, 'knowledge_id'].apply(lambda x: '_'.join(map(lambda y: str(k2n[int(float(y))]), str(x).split('_'))))\n"
   ]
  },
  {
   "cell_type": "code",
   "execution_count": 16,
   "metadata": {},
   "outputs": [
    {
     "name": "stdout",
     "output_type": "stream",
     "text": [
      "Total length: 101470\n",
      "Number of unique [student_id,question_id]: 71515\n",
      "Number of unique student_id: 1291\n",
      "Number of unique question_id: 1485\n",
      "Number of unique knowledge_id: 35\n",
      "Average #questions per knowledge: 59.4\n"
     ]
    }
   ],
   "source": [
    "stat_unique(selected_data, None)\n",
    "a=stat_unique(selected_data, ['student_id', 'question_id'])\n",
    "b=stat_unique(selected_data, 'student_id')\n",
    "c=stat_unique(selected_data, 'question_id')\n",
    "d=stat_unique(selected_data, 'knowledge_id')\n",
    "print('Average #questions per knowledge: {}'.format((len(q2k) / len(k2q))))"
   ]
  },
  {
   "cell_type": "code",
   "execution_count": 17,
   "metadata": {},
   "outputs": [],
   "source": [
    "selected_data.to_csv('selected_data.csv', index=False)"
   ]
  },
  {
   "cell_type": "code",
   "execution_count": 18,
   "metadata": {},
   "outputs": [],
   "source": [
    "# save concept map\n",
    "q2k = {}\n",
    "table = selected_data.loc[:, ['question_id', 'knowledge_id']].drop_duplicates()\n",
    "for i, row in table.iterrows():\n",
    "    q = str(row['question_id'])\n",
    "    q2k[q] = list(map(int, str(row['knowledge_id']).split('_')))\n",
    "with open('concept_map.json', 'w') as f:\n",
    "    json.dump(q2k, f)"
   ]
  },
  {
   "cell_type": "markdown",
   "metadata": {},
   "source": [
    "## parse data"
   ]
  },
  {
   "cell_type": "code",
   "execution_count": 19,
   "metadata": {},
   "outputs": [],
   "source": [
    "def parse_data(data):\n",
    "    \"\"\" \n",
    "\n",
    "    Args:\n",
    "        data: list of triplets (sid, qid, score)\n",
    "        \n",
    "    Returns:\n",
    "        student based datasets: defaultdict {sid: {qid: score}}\n",
    "        question based datasets: defaultdict {qid: {sid: score}}\n",
    "    \"\"\"\n",
    "    stu_data = defaultdict(lambda: defaultdict(dict))\n",
    "    ques_data = defaultdict(lambda: defaultdict(dict))\n",
    "    for i, row in data.iterrows():\n",
    "        sid = row.student_id\n",
    "        qid = row.question_id\n",
    "        correct = row.correct\n",
    "        stu_data[sid][qid] = correct\n",
    "        ques_data[qid][sid] = correct\n",
    "    return stu_data, ques_data"
   ]
  },
  {
   "cell_type": "code",
   "execution_count": 20,
   "metadata": {},
   "outputs": [],
   "source": [
    "data = []\n",
    "for i, row in selected_data.iterrows():\n",
    "    data.append([row.student_id, row.question_id, row.correct])"
   ]
  },
  {
   "cell_type": "code",
   "execution_count": 21,
   "metadata": {},
   "outputs": [],
   "source": [
    "stu_data, ques_data = parse_data(selected_data)"
   ]
  },
  {
   "cell_type": "code",
   "execution_count": 22,
   "metadata": {},
   "outputs": [],
   "source": [
    "test_size = 0.2\n",
    "least_test_length=150"
   ]
  },
  {
   "cell_type": "code",
   "execution_count": 23,
   "metadata": {},
   "outputs": [],
   "source": [
    "n_students = len(stu_data)\n",
    "if isinstance(test_size, float):\n",
    "    test_size = int(n_students * test_size)\n",
    "train_size = n_students - test_size\n",
    "assert(train_size > 0 and test_size > 0)\n",
    "\n",
    "students = list(range(n_students))\n",
    "random.shuffle(students)\n",
    "if least_test_length is not None:\n",
    "    student_lens = defaultdict(int)\n",
    "    for t in data:\n",
    "        student_lens[t[0]] += 1\n",
    "    students = [student for student in students\n",
    "                if student_lens[student] >= least_test_length]\n",
    "test_students = set(students[:test_size])\n",
    "\n",
    "train_data = [record for record in data if record[0] not in test_students]\n",
    "test_data = [record for record in data if record[0] in test_students]"
   ]
  },
  {
   "cell_type": "code",
   "execution_count": 24,
   "metadata": {},
   "outputs": [],
   "source": [
    "def renumber_student_id(data):\n",
    "    \"\"\"\n",
    "\n",
    "    Args:\n",
    "        data: list of triplets (sid, qid, score)\n",
    "    \n",
    "    Returns:\n",
    "        renumbered datasets: list of triplets (sid, qid, score)\n",
    "    \"\"\"\n",
    "    student_ids = sorted(set(t[0] for t in data))\n",
    "    renumber_map = {sid: i for i, sid in enumerate(student_ids)}\n",
    "    data = [(renumber_map[t[0]], t[1], t[2]) for t in data]\n",
    "    return data"
   ]
  },
  {
   "cell_type": "code",
   "execution_count": 25,
   "metadata": {},
   "outputs": [],
   "source": [
    "train_data = renumber_student_id(train_data)\n",
    "test_data = renumber_student_id(test_data)\n",
    "all_data = renumber_student_id(data)"
   ]
  },
  {
   "cell_type": "code",
   "execution_count": 26,
   "metadata": {},
   "outputs": [
    {
     "name": "stdout",
     "output_type": "stream",
     "text": [
      "train records length: 51465\n",
      "test records length: 50005\n",
      "all records length: 101470\n"
     ]
    }
   ],
   "source": [
    "print(f'train records length: {len(train_data)}')\n",
    "print(f'test records length: {len(test_data)}')\n",
    "print(f'all records length: {len(all_data)}')"
   ]
  },
  {
   "cell_type": "markdown",
   "metadata": {},
   "source": [
    "## save data"
   ]
  },
  {
   "cell_type": "code",
   "execution_count": 27,
   "metadata": {},
   "outputs": [],
   "source": [
    "def save_to_csv(data, path):\n",
    "    \"\"\"\n",
    "\n",
    "    Args:\n",
    "        data: list of triplets (sid, qid, correct)\n",
    "        path: str representing saving path\n",
    "    \"\"\"\n",
    "    pd.DataFrame.from_records(sorted(data), columns=['student_id', 'question_id', 'correct']).to_csv(path, index=False)"
   ]
  },
  {
   "cell_type": "code",
   "execution_count": 28,
   "metadata": {},
   "outputs": [],
   "source": [
    "save_to_csv(train_data, 'train_triples.csv')\n",
    "save_to_csv(test_data, 'test_triples.csv')\n",
    "save_to_csv(all_data, 'triples.csv')"
   ]
  },
  {
   "cell_type": "code",
   "execution_count": 29,
   "metadata": {},
   "outputs": [],
   "source": [
    "metadata = {\"num_students\": n_students, \n",
    "            \"num_questions\": c,\n",
    "            \"num_concepts\": d, \n",
    "            \"num_records\": len(all_data), \n",
    "            \"num_train_students\": n_students - len(test_students), \n",
    "            \"num_test_students\": len(test_students)}"
   ]
  },
  {
   "cell_type": "code",
   "execution_count": 30,
   "metadata": {},
   "outputs": [],
   "source": [
    "with open('metadata.json', 'w') as f:\n",
    "    json.dump(metadata, f)"
   ]
  },
  {
   "cell_type": "code",
   "execution_count": null,
   "metadata": {},
   "outputs": [],
   "source": []
  }
 ],
 "metadata": {
  "kernelspec": {
   "display_name": "Python (EduCAT)",
   "language": "python",
   "name": "educat"
  },
  "language_info": {
   "codemirror_mode": {
    "name": "ipython",
    "version": 3
   },
   "file_extension": ".py",
   "mimetype": "text/x-python",
   "name": "python",
   "nbconvert_exporter": "python",
   "pygments_lexer": "ipython3",
   "version": "3.12.9"
  }
 },
 "nbformat": 4,
 "nbformat_minor": 4
}
