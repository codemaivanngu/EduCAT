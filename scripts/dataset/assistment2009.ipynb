{
 "cells": [
  {
   "cell_type": "code",
   "execution_count": 1,
   "metadata": {},
   "outputs": [],
   "source": [
    "import csv\n",
    "import json\n",
    "import random\n",
    "import numpy as np\n",
    "import pandas as pd\n",
    "import matplotlib.pyplot as plt\n",
    "from collections import defaultdict"
   ]
  },
  {
   "cell_type": "code",
   "execution_count": 2,
   "metadata": {},
   "outputs": [],
   "source": [
    "def stat_unique(data: pd.DataFrame, key):\n",
    "    if key is None:\n",
    "        print('Total length: {}'.format(len(data)))\n",
    "    elif isinstance(key, str):\n",
    "        print('Number of unique {}: {}'.format(key, len(data[key].unique())))\n",
    "        return len(data[key].unique())\n",
    "    elif isinstance(key, list):\n",
    "        print('Number of unique [{}]: {}'.format(','.join(key), len(data.drop_duplicates(key, keep='first'))))\n",
    "        return len(data.drop_duplicates(key, keep='first'))"
   ]
  },
  {
   "cell_type": "code",
   "execution_count": 3,
   "metadata": {},
   "outputs": [
    {
     "data": {
      "text/html": [
       "<div>\n",
       "<style scoped>\n",
       "    .dataframe tbody tr th:only-of-type {\n",
       "        vertical-align: middle;\n",
       "    }\n",
       "\n",
       "    .dataframe tbody tr th {\n",
       "        vertical-align: top;\n",
       "    }\n",
       "\n",
       "    .dataframe thead th {\n",
       "        text-align: right;\n",
       "    }\n",
       "</style>\n",
       "<table border=\"1\" class=\"dataframe\">\n",
       "  <thead>\n",
       "    <tr style=\"text-align: right;\">\n",
       "      <th></th>\n",
       "      <th>order_id</th>\n",
       "      <th>assignment_id</th>\n",
       "      <th>user_id</th>\n",
       "      <th>assistment_id</th>\n",
       "      <th>problem_id</th>\n",
       "      <th>original</th>\n",
       "      <th>correct</th>\n",
       "      <th>attempt_count</th>\n",
       "      <th>ms_first_response</th>\n",
       "      <th>tutor_mode</th>\n",
       "      <th>...</th>\n",
       "      <th>hint_count</th>\n",
       "      <th>hint_total</th>\n",
       "      <th>overlap_time</th>\n",
       "      <th>template_id</th>\n",
       "      <th>answer_id</th>\n",
       "      <th>answer_text</th>\n",
       "      <th>first_action</th>\n",
       "      <th>bottom_hint</th>\n",
       "      <th>opportunity</th>\n",
       "      <th>opportunity_original</th>\n",
       "    </tr>\n",
       "  </thead>\n",
       "  <tbody>\n",
       "    <tr>\n",
       "      <th>0</th>\n",
       "      <td>20223588</td>\n",
       "      <td>245748</td>\n",
       "      <td>77759</td>\n",
       "      <td>12914</td>\n",
       "      <td>12914</td>\n",
       "      <td>1</td>\n",
       "      <td>1.0</td>\n",
       "      <td>1</td>\n",
       "      <td>57310.0</td>\n",
       "      <td>tutor</td>\n",
       "      <td>...</td>\n",
       "      <td>0</td>\n",
       "      <td>0</td>\n",
       "      <td>57310</td>\n",
       "      <td>12914</td>\n",
       "      <td>20935.0</td>\n",
       "      <td>NaN</td>\n",
       "      <td>0.0</td>\n",
       "      <td>NaN</td>\n",
       "      <td>1</td>\n",
       "      <td>1</td>\n",
       "    </tr>\n",
       "    <tr>\n",
       "      <th>1</th>\n",
       "      <td>20223595</td>\n",
       "      <td>245748</td>\n",
       "      <td>77759</td>\n",
       "      <td>15320</td>\n",
       "      <td>15320</td>\n",
       "      <td>1</td>\n",
       "      <td>1.0</td>\n",
       "      <td>1</td>\n",
       "      <td>88691.0</td>\n",
       "      <td>tutor</td>\n",
       "      <td>...</td>\n",
       "      <td>0</td>\n",
       "      <td>0</td>\n",
       "      <td>88691</td>\n",
       "      <td>15320</td>\n",
       "      <td>22385.0</td>\n",
       "      <td>NaN</td>\n",
       "      <td>0.0</td>\n",
       "      <td>NaN</td>\n",
       "      <td>2</td>\n",
       "      <td>2</td>\n",
       "    </tr>\n",
       "    <tr>\n",
       "      <th>2</th>\n",
       "      <td>20223601</td>\n",
       "      <td>245748</td>\n",
       "      <td>77759</td>\n",
       "      <td>14529</td>\n",
       "      <td>14529</td>\n",
       "      <td>1</td>\n",
       "      <td>1.0</td>\n",
       "      <td>1</td>\n",
       "      <td>43748.0</td>\n",
       "      <td>tutor</td>\n",
       "      <td>...</td>\n",
       "      <td>0</td>\n",
       "      <td>0</td>\n",
       "      <td>43748</td>\n",
       "      <td>14529</td>\n",
       "      <td>20735.0</td>\n",
       "      <td>NaN</td>\n",
       "      <td>0.0</td>\n",
       "      <td>NaN</td>\n",
       "      <td>3</td>\n",
       "      <td>3</td>\n",
       "    </tr>\n",
       "    <tr>\n",
       "      <th>3</th>\n",
       "      <td>20223926</td>\n",
       "      <td>245698</td>\n",
       "      <td>77912</td>\n",
       "      <td>1159</td>\n",
       "      <td>1159</td>\n",
       "      <td>1</td>\n",
       "      <td>0.0</td>\n",
       "      <td>2</td>\n",
       "      <td>45587.0</td>\n",
       "      <td>tutor</td>\n",
       "      <td>...</td>\n",
       "      <td>0</td>\n",
       "      <td>0</td>\n",
       "      <td>53599</td>\n",
       "      <td>1159</td>\n",
       "      <td>NaN</td>\n",
       "      <td>3</td>\n",
       "      <td>0.0</td>\n",
       "      <td>NaN</td>\n",
       "      <td>1</td>\n",
       "      <td>1</td>\n",
       "    </tr>\n",
       "    <tr>\n",
       "      <th>4</th>\n",
       "      <td>20223934</td>\n",
       "      <td>245698</td>\n",
       "      <td>77912</td>\n",
       "      <td>1647</td>\n",
       "      <td>1647</td>\n",
       "      <td>1</td>\n",
       "      <td>1.0</td>\n",
       "      <td>1</td>\n",
       "      <td>90176.0</td>\n",
       "      <td>tutor</td>\n",
       "      <td>...</td>\n",
       "      <td>0</td>\n",
       "      <td>0</td>\n",
       "      <td>90176</td>\n",
       "      <td>1647</td>\n",
       "      <td>3438.0</td>\n",
       "      <td>NaN</td>\n",
       "      <td>0.0</td>\n",
       "      <td>NaN</td>\n",
       "      <td>1</td>\n",
       "      <td>1</td>\n",
       "    </tr>\n",
       "  </tbody>\n",
       "</table>\n",
       "<p>5 rows × 30 columns</p>\n",
       "</div>"
      ],
      "text/plain": [
       "   order_id  assignment_id  user_id  assistment_id  problem_id  original  \\\n",
       "0  20223588         245748    77759          12914       12914         1   \n",
       "1  20223595         245748    77759          15320       15320         1   \n",
       "2  20223601         245748    77759          14529       14529         1   \n",
       "3  20223926         245698    77912           1159        1159         1   \n",
       "4  20223934         245698    77912           1647        1647         1   \n",
       "\n",
       "   correct  attempt_count  ms_first_response tutor_mode  ... hint_count  \\\n",
       "0      1.0              1            57310.0      tutor  ...          0   \n",
       "1      1.0              1            88691.0      tutor  ...          0   \n",
       "2      1.0              1            43748.0      tutor  ...          0   \n",
       "3      0.0              2            45587.0      tutor  ...          0   \n",
       "4      1.0              1            90176.0      tutor  ...          0   \n",
       "\n",
       "   hint_total  overlap_time  template_id answer_id  answer_text first_action  \\\n",
       "0           0         57310        12914   20935.0          NaN          0.0   \n",
       "1           0         88691        15320   22385.0          NaN          0.0   \n",
       "2           0         43748        14529   20735.0          NaN          0.0   \n",
       "3           0         53599         1159       NaN            3          0.0   \n",
       "4           0         90176         1647    3438.0          NaN          0.0   \n",
       "\n",
       "  bottom_hint  opportunity  opportunity_original  \n",
       "0         NaN            1                     1  \n",
       "1         NaN            2                     2  \n",
       "2         NaN            3                     3  \n",
       "3         NaN            1                     1  \n",
       "4         NaN            1                     1  \n",
       "\n",
       "[5 rows x 30 columns]"
      ]
     },
     "execution_count": 3,
     "metadata": {},
     "output_type": "execute_result"
    }
   ],
   "source": [
    "raw_data = pd.read_csv('../../data/assistment2009/non_skill_builder_data_new.csv', encoding = 'utf-8', dtype={'skill_id': str})\n",
    "raw_data.head()"
   ]
  },
  {
   "cell_type": "code",
   "execution_count": 4,
   "metadata": {},
   "outputs": [],
   "source": [
    "raw_data = raw_data.rename(columns={'user_id': 'student_id',\n",
    "                                    'problem_id': 'question_id',\n",
    "                                    'skill_id': 'knowledge_id',\n",
    "                                    'skill_name': 'knowledge_name',\n",
    "                                    })\n",
    "all_data = raw_data.loc[:, ['student_id', 'question_id', 'knowledge_id', 'knowledge_name', 'correct']].dropna()"
   ]
  },
  {
   "cell_type": "code",
   "execution_count": 5,
   "metadata": {},
   "outputs": [
    {
     "name": "stdout",
     "output_type": "stream",
     "text": [
      "Total length: 562268\n",
      "Number of unique [student_id,question_id]: 526434\n",
      "Number of unique student_id: 8043\n",
      "Number of unique question_id: 6630\n",
      "Number of unique knowledge_id: 525\n"
     ]
    }
   ],
   "source": [
    "stat_unique(all_data, None)\n",
    "a=stat_unique(all_data, ['student_id', 'question_id'])\n",
    "b=stat_unique(all_data, 'student_id')\n",
    "c=stat_unique(all_data, 'question_id')\n",
    "d=stat_unique(all_data, 'knowledge_id')"
   ]
  },
  {
   "cell_type": "code",
   "execution_count": 33,
   "metadata": {},
   "outputs": [],
   "source": [
    "def format_knowledge_id(x):\n",
    "    # Chuyển giá trị về chuỗi để xử lý nhất quán\n",
    "    s = str(x)\n",
    "    # Nếu chứa dấu phẩy, lấy phần tử đầu tiên\n",
    "    if ',' in s:\n",
    "        return int(s.split(',')[0])\n",
    "    else:\n",
    "        return int(s)\n",
    "\n",
    "# Áp dụng hàm cho cột knowledge_id\n",
    "all_data['knowledge_id'] = all_data['knowledge_id'].apply(format_knowledge_id)"
   ]
  },
  {
   "cell_type": "markdown",
   "metadata": {},
   "source": [
    "## Filter data"
   ]
  },
  {
   "cell_type": "code",
   "execution_count": 34,
   "metadata": {},
   "outputs": [],
   "source": [
    "selected_data = all_data"
   ]
  },
  {
   "cell_type": "code",
   "execution_count": 35,
   "metadata": {},
   "outputs": [
    {
     "name": "stdout",
     "output_type": "stream",
     "text": [
      "filter 4208 questions\n"
     ]
    }
   ],
   "source": [
    "# filter questions\n",
    "n_students = selected_data.groupby('question_id')['student_id'].count()\n",
    "question_filter = n_students[n_students < 50].index.tolist()\n",
    "print(f'filter {len(question_filter)} questions')\n",
    "selected_data = selected_data[~selected_data['question_id'].isin(question_filter)]"
   ]
  },
  {
   "cell_type": "code",
   "execution_count": 36,
   "metadata": {},
   "outputs": [
    {
     "name": "stdout",
     "output_type": "stream",
     "text": [
      "filter 3258 students\n"
     ]
    }
   ],
   "source": [
    "# filter students\n",
    "n_questions = selected_data.groupby('student_id')['question_id'].count()\n",
    "student_filter = n_questions[n_questions < 20].index.tolist()\n",
    "print(f'filter {len(student_filter)} students')\n",
    "selected_data = selected_data[~selected_data['student_id'].isin(student_filter)]"
   ]
  },
  {
   "cell_type": "code",
   "execution_count": 37,
   "metadata": {},
   "outputs": [],
   "source": [
    "# get question to knowledge map\n",
    "q2k = {}\n",
    "table = selected_data.loc[:, ['question_id', 'knowledge_id']].drop_duplicates()\n",
    "for i, row in table.iterrows():\n",
    "    q = row['question_id']\n",
    "    # ép về chuỗi để đảm bảo xử lý nhất quán\n",
    "    knowledge_str = str(row['knowledge_id'])\n",
    "    # nếu chứa dấu phẩy -> tách lấy id đầu tiên, ngược lại chuyển trực tiếp\n",
    "    if ',' in knowledge_str:\n",
    "        first_knowledge = int(knowledge_str.split(',')[0])\n",
    "    else:\n",
    "        first_knowledge = int(knowledge_str)\n",
    "    q2k[q] = {first_knowledge}\n",
    "\n",
    "    \n",
    "# get knowledge to question map\n",
    "k2q = {}\n",
    "for q, ks in q2k.items():\n",
    "    for k in ks:\n",
    "        k2q.setdefault(k, set())\n",
    "        k2q[k].add(q)"
   ]
  },
  {
   "cell_type": "code",
   "execution_count": 38,
   "metadata": {},
   "outputs": [
    {
     "name": "stdout",
     "output_type": "stream",
     "text": [
      "filter 77 knowledges\n"
     ]
    }
   ],
   "source": [
    "# filter knowledges\n",
    "#selected_knowledges = { k for k, q in k2q.items()}\n",
    "selected_knowledges = { k for k, q in k2q.items() if len(q) >= 10}\n",
    "print(f'filter {len(k2q) - len(selected_knowledges)} knowledges')"
   ]
  },
  {
   "cell_type": "code",
   "execution_count": 39,
   "metadata": {},
   "outputs": [],
   "source": [
    "# update maps\n",
    "q2k = {q : ks for q, ks in q2k.items() if ks & selected_knowledges}\n",
    "k2q = {}\n",
    "for q, ks in q2k.items():\n",
    "    for k in ks:\n",
    "        k2q.setdefault(k, set())\n",
    "        k2q[k].add(q)"
   ]
  },
  {
   "cell_type": "code",
   "execution_count": 40,
   "metadata": {},
   "outputs": [],
   "source": [
    "# update data\n",
    "selected_data = selected_data[selected_data.apply(lambda x: x['question_id'] in q2k, axis=1)]"
   ]
  },
  {
   "cell_type": "code",
   "execution_count": 41,
   "metadata": {},
   "outputs": [],
   "source": [
    "# renumber the students\n",
    "s2n = {}\n",
    "cnt = 0\n",
    "for i, row in selected_data.iterrows():\n",
    "    if row.student_id not in s2n:\n",
    "        s2n[row.student_id] = cnt\n",
    "        cnt += 1\n",
    "selected_data.loc[:, 'student_id'] = selected_data.loc[:, 'student_id'].apply(lambda x: s2n[x])"
   ]
  },
  {
   "cell_type": "code",
   "execution_count": 42,
   "metadata": {},
   "outputs": [],
   "source": [
    "# renumber the questions\n",
    "q2n = {}\n",
    "cnt = 0\n",
    "for i, row in selected_data.iterrows():\n",
    "    if row.question_id not in q2n:\n",
    "        q2n[row.question_id] = cnt\n",
    "        cnt += 1\n",
    "selected_data.loc[:, 'question_id'] = selected_data.loc[:, 'question_id'].apply(lambda x: q2n[x])"
   ]
  },
  {
   "cell_type": "code",
   "execution_count": 43,
   "metadata": {},
   "outputs": [
    {
     "name": "stderr",
     "output_type": "stream",
     "text": [
      "C:\\Users\\Tung\\AppData\\Local\\Temp\\ipykernel_30200\\2096838122.py:12: FutureWarning: Setting an item of incompatible dtype is deprecated and will raise in a future error of pandas. Value '['0' '0' '0' ... '26' '23' '25']' has dtype incompatible with int64, please explicitly cast to a compatible dtype first.\n",
      "  selected_data.loc[:, 'knowledge_id'] = selected_data.loc[:, 'knowledge_id'].apply(lambda x: '_'.join(map(lambda y: str(k2n[int(float(y))]), str(x).split('_'))))\n"
     ]
    }
   ],
   "source": [
    "# renumber the knowledges\n",
    "k2n = {}\n",
    "cnt = 0\n",
    "for i, row in selected_data.iterrows():\n",
    "    for k in str(row.knowledge_id).split('_'):\n",
    "        k = str(k)\n",
    "        if \",\" in k: k = k.split(\",\")[0]\n",
    "        k=int(k)\n",
    "        if int(float(k)) not in k2n:\n",
    "            k2n[int(float(k))] = cnt\n",
    "            cnt += 1\n",
    "selected_data.loc[:, 'knowledge_id'] = selected_data.loc[:, 'knowledge_id'].apply(lambda x: '_'.join(map(lambda y: str(k2n[int(float(y))]), str(x).split('_'))))\n"
   ]
  },
  {
   "cell_type": "code",
   "execution_count": 44,
   "metadata": {},
   "outputs": [
    {
     "name": "stdout",
     "output_type": "stream",
     "text": [
      "Total length: 447083\n",
      "Number of unique [student_id,question_id]: 415510\n",
      "Number of unique student_id: 4719\n",
      "Number of unique question_id: 2105\n",
      "Number of unique knowledge_id: 78\n",
      "Average #questions per knowledge: 26.987179487179485\n"
     ]
    }
   ],
   "source": [
    "stat_unique(selected_data, None)\n",
    "a=stat_unique(selected_data, ['student_id', 'question_id'])\n",
    "b=stat_unique(selected_data, 'student_id')\n",
    "c=stat_unique(selected_data, 'question_id')\n",
    "d=stat_unique(selected_data, 'knowledge_id')\n",
    "print('Average #questions per knowledge: {}'.format((len(q2k) / len(k2q))))"
   ]
  },
  {
   "cell_type": "code",
   "execution_count": 45,
   "metadata": {},
   "outputs": [],
   "source": [
    "selected_data.to_csv('selected_data.csv', index=False)"
   ]
  },
  {
   "cell_type": "code",
   "execution_count": 46,
   "metadata": {},
   "outputs": [],
   "source": [
    "# save concept map\n",
    "q2k = {}\n",
    "table = selected_data.loc[:, ['question_id', 'knowledge_id']].drop_duplicates()\n",
    "for i, row in table.iterrows():\n",
    "    q = str(row['question_id'])\n",
    "    q2k[q] = list(map(int, str(row['knowledge_id']).split('_')))\n",
    "with open('concept_map.json', 'w') as f:\n",
    "    json.dump(q2k, f)"
   ]
  },
  {
   "cell_type": "markdown",
   "metadata": {},
   "source": [
    "## parse data"
   ]
  },
  {
   "cell_type": "code",
   "execution_count": 47,
   "metadata": {},
   "outputs": [],
   "source": [
    "def parse_data(data):\n",
    "    \"\"\" \n",
    "\n",
    "    Args:\n",
    "        data: list of triplets (sid, qid, score)\n",
    "        \n",
    "    Returns:\n",
    "        student based datasets: defaultdict {sid: {qid: score}}\n",
    "        question based datasets: defaultdict {qid: {sid: score}}\n",
    "    \"\"\"\n",
    "    stu_data = defaultdict(lambda: defaultdict(dict))\n",
    "    ques_data = defaultdict(lambda: defaultdict(dict))\n",
    "    for i, row in data.iterrows():\n",
    "        sid = row.student_id\n",
    "        qid = row.question_id\n",
    "        correct = row.correct\n",
    "        stu_data[sid][qid] = correct\n",
    "        ques_data[qid][sid] = correct\n",
    "    return stu_data, ques_data"
   ]
  },
  {
   "cell_type": "code",
   "execution_count": 48,
   "metadata": {},
   "outputs": [],
   "source": [
    "data = []\n",
    "for i, row in selected_data.iterrows():\n",
    "    data.append([row.student_id, row.question_id, row.correct])"
   ]
  },
  {
   "cell_type": "code",
   "execution_count": 49,
   "metadata": {},
   "outputs": [],
   "source": [
    "stu_data, ques_data = parse_data(selected_data)"
   ]
  },
  {
   "cell_type": "code",
   "execution_count": 50,
   "metadata": {},
   "outputs": [],
   "source": [
    "test_size = 0.2\n",
    "least_test_length=150"
   ]
  },
  {
   "cell_type": "code",
   "execution_count": 51,
   "metadata": {},
   "outputs": [],
   "source": [
    "n_students = len(stu_data)\n",
    "if isinstance(test_size, float):\n",
    "    test_size = int(n_students * test_size)\n",
    "train_size = n_students - test_size\n",
    "assert(train_size > 0 and test_size > 0)\n",
    "\n",
    "students = list(range(n_students))\n",
    "random.shuffle(students)\n",
    "if least_test_length is not None:\n",
    "    student_lens = defaultdict(int)\n",
    "    for t in data:\n",
    "        student_lens[t[0]] += 1\n",
    "    students = [student for student in students\n",
    "                if student_lens[student] >= least_test_length]\n",
    "test_students = set(students[:test_size])\n",
    "\n",
    "train_data = [record for record in data if record[0] not in test_students]\n",
    "test_data = [record for record in data if record[0] in test_students]"
   ]
  },
  {
   "cell_type": "code",
   "execution_count": 52,
   "metadata": {},
   "outputs": [],
   "source": [
    "def renumber_student_id(data):\n",
    "    \"\"\"\n",
    "\n",
    "    Args:\n",
    "        data: list of triplets (sid, qid, score)\n",
    "    \n",
    "    Returns:\n",
    "        renumbered datasets: list of triplets (sid, qid, score)\n",
    "    \"\"\"\n",
    "    student_ids = sorted(set(t[0] for t in data))\n",
    "    renumber_map = {sid: i for i, sid in enumerate(student_ids)}\n",
    "    data = [(renumber_map[t[0]], t[1], t[2]) for t in data]\n",
    "    return data"
   ]
  },
  {
   "cell_type": "code",
   "execution_count": 53,
   "metadata": {},
   "outputs": [],
   "source": [
    "train_data = renumber_student_id(train_data)\n",
    "test_data = renumber_student_id(test_data)\n",
    "all_data = renumber_student_id(data)"
   ]
  },
  {
   "cell_type": "code",
   "execution_count": 54,
   "metadata": {},
   "outputs": [
    {
     "name": "stdout",
     "output_type": "stream",
     "text": [
      "train records length: 201829\n",
      "test records length: 245254\n",
      "all records length: 447083\n"
     ]
    }
   ],
   "source": [
    "print(f'train records length: {len(train_data)}')\n",
    "print(f'test records length: {len(test_data)}')\n",
    "print(f'all records length: {len(all_data)}')"
   ]
  },
  {
   "cell_type": "markdown",
   "metadata": {},
   "source": [
    "## save data"
   ]
  },
  {
   "cell_type": "code",
   "execution_count": 55,
   "metadata": {},
   "outputs": [],
   "source": [
    "def save_to_csv(data, path):\n",
    "    \"\"\"\n",
    "\n",
    "    Args:\n",
    "        data: list of triplets (sid, qid, correct)\n",
    "        path: str representing saving path\n",
    "    \"\"\"\n",
    "    pd.DataFrame.from_records(sorted(data), columns=['student_id', 'question_id', 'correct']).to_csv(path, index=False)"
   ]
  },
  {
   "cell_type": "code",
   "execution_count": 56,
   "metadata": {},
   "outputs": [],
   "source": [
    "save_to_csv(train_data, 'train_triples.csv')\n",
    "save_to_csv(test_data, 'test_triples.csv')\n",
    "save_to_csv(all_data, 'triples.csv')"
   ]
  },
  {
   "cell_type": "code",
   "execution_count": 57,
   "metadata": {},
   "outputs": [],
   "source": [
    "metadata = {\"num_students\": n_students, \n",
    "            \"num_questions\": c,\n",
    "            \"num_concepts\": d, \n",
    "            \"num_records\": len(all_data), \n",
    "            \"num_train_students\": n_students - len(test_students), \n",
    "            \"num_test_students\": len(test_students)}"
   ]
  },
  {
   "cell_type": "code",
   "execution_count": 58,
   "metadata": {},
   "outputs": [],
   "source": [
    "with open('metadata.json', 'w') as f:\n",
    "    json.dump(metadata, f)"
   ]
  },
  {
   "cell_type": "code",
   "execution_count": null,
   "metadata": {},
   "outputs": [],
   "source": []
  },
  {
   "cell_type": "code",
   "execution_count": null,
   "metadata": {},
   "outputs": [],
   "source": []
  }
 ],
 "metadata": {
  "kernelspec": {
   "display_name": "Python (EduCAT)",
   "language": "python",
   "name": "educat"
  },
  "language_info": {
   "codemirror_mode": {
    "name": "ipython",
    "version": 3
   },
   "file_extension": ".py",
   "mimetype": "text/x-python",
   "name": "python",
   "nbconvert_exporter": "python",
   "pygments_lexer": "ipython3",
   "version": "3.12.9"
  }
 },
 "nbformat": 4,
 "nbformat_minor": 4
}
